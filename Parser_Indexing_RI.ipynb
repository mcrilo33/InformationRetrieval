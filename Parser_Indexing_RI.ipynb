{
 "cells": [
  {
   "cell_type": "markdown",
   "metadata": {},
   "source": [
    "# Documents Extraction"
   ]
  },
  {
   "cell_type": "code",
   "execution_count": 177,
   "metadata": {
    "collapsed": false
   },
   "outputs": [],
   "source": [
    "import os\n",
    "import re\n",
    "import pickle\n",
    "import string\n",
    "import numpy as np\n",
    "import pandas as pd\n",
    "from ParserCACM import *\n",
    "from IndexerQuery import *\n",
    "from porter import *\n",
    "from copy import *\n",
    "from nltk.corpus import stopwords\n",
    "from TextRepresenter import PorterStemmer\n",
    "from ggplot import *\n",
    "from porter import *"
   ]
  },
  {
   "cell_type": "code",
   "execution_count": 62,
   "metadata": {
    "collapsed": true
   },
   "outputs": [],
   "source": [
    "# Processed collections \n",
    "collectionPath = 'data/cacm/cacm.txt'\n",
    "collectionPath2 = 'data/cisi/cisi.txt'"
   ]
  },
  {
   "cell_type": "code",
   "execution_count": 63,
   "metadata": {
    "collapsed": false
   },
   "outputs": [
    {
     "name": "stdout",
     "output_type": "stream",
     "text": [
      "id=1\n",
      " Preliminary Report-International Algebraic Language \n",
      "  Perlis, A. J. Samelson,K. \n",
      "  \n",
      " \n",
      "{'from': '/home/mcrilo33/Master/Master2/RI/TP1/data/cacm/cacm.txt;0;402', 'links': '100;123;164;205;210;214;1982;398;642;669;165;196;196;1273;1883;324;43;53;91;410;3184;', 'author': ' Perlis, A. J. Samelson,K.', 'text': '', 'title': ' Preliminary Report-International Algebraic Language', 'keywords': ''}\n"
     ]
    }
   ],
   "source": [
    "parser = ParserCACM()\n",
    "parser.initFile(collectionPath)\n",
    "docExample = parser.nextDocument()\n",
    "print(docExample)"
   ]
  },
  {
   "cell_type": "markdown",
   "metadata": {},
   "source": [
    "# Documents Indexing"
   ]
  },
  {
   "cell_type": "code",
   "execution_count": 64,
   "metadata": {
    "collapsed": false
   },
   "outputs": [],
   "source": [
    "class Indexer(object):\n",
    "    '''Build an Index from a Collection'''\n",
    "    \n",
    "    def __init__(\n",
    "        self, collectionPath,\n",
    "        parser,\n",
    "        fromCol=\"\",\n",
    "        repPath=\"\",\n",
    "        repIndexPath=\"\",\n",
    "        repInvPath=\"\",\n",
    "        repInvIndexPath=\"\",\n",
    "        repInvFromAllPath=\"\",\n",
    "        linkPath=\"\",\n",
    "        linkIndexPath=\"\"\n",
    "    ):\n",
    "        \n",
    "        # parser is a Parser object\n",
    "        self.parser = parser\n",
    "                 \n",
    "        # collectionPath is a String object\n",
    "        self.collectionPath = collectionPath\n",
    "        end = re.search(r'\\..*?$', collectionPath).group(0)\n",
    "                 \n",
    "        # Path names\n",
    "        if repPath==\"\":\n",
    "            self.repPath = \\\n",
    "                re.sub(r'\\..*$', 'Rep'+end, self.collectionPath)\n",
    "        else:\n",
    "            self.repPath = repPath\n",
    "        if fromCol==\"\":\n",
    "            self.fromCol = \\\n",
    "                re.sub(r'\\..*$', 'Index'+end, self.collectionPath)\n",
    "        else:\n",
    "            self.fromCol = fromCol\n",
    "        if repIndexPath==\"\":\n",
    "            self.repIndexPath = \\\n",
    "                re.sub(r'\\..*$', 'Index'+end, self.repPath)\n",
    "        else:\n",
    "            self.repIndexPath = repindexPath\n",
    "        if repInvIndexPath==\"\":\n",
    "            self.repInvIndexPath = \\\n",
    "                re.sub(r'\\..*$', 'InvIndex'+end, self.repPath)\n",
    "        else:\n",
    "            self.repInvIndexPath = repInvIndexPath\n",
    "        if repInvFromAllPath==\"\":\n",
    "            self.repInvFromAllPath = \\\n",
    "                re.sub(r'\\..*$', 'InvFromAll'+end, self.repPath)\n",
    "        else:\n",
    "            self.repInvFromAllPath = repInvFromAllPath\n",
    "        if repInvPath==\"\":\n",
    "            self.repInvPath = re.sub(r'\\..*$', 'Inv'+end, self.repPath)\n",
    "        else:\n",
    "            self.repInvPath\n",
    "        if linkPath==\"\":\n",
    "            self.linkPath = re.sub(r'\\..*$', 'Link'+end, self.collectionPath)\n",
    "        else:\n",
    "            self.linkPath\n",
    "        if linkIndexPath==\"\":\n",
    "            self.linkIndexPath = re.sub(r'\\..*$', 'LinkIndex'+end, self.collectionPath)\n",
    "        else:\n",
    "            self.linkIndexPath\n",
    "        \n",
    "        # Loads Hashtables if they exist\n",
    "        if os.path.isfile(self.repIndexPath):\n",
    "            repIndexFile = open(self.repIndexPath)\n",
    "            self.index = pickle.load(repIndexFile)\n",
    "            repIndexFile.close()\n",
    "        else:\n",
    "            self.index = {}\n",
    "        if os.path.isfile(self.fromCol):\n",
    "            fromColFile = open(self.fromCol)\n",
    "            self.indexFromCol = pickle.load(fromColFile)\n",
    "            fromColFile.close()\n",
    "        else:\n",
    "            self.indexFromCol = {}\n",
    "        if os.path.isfile(self.repInvIndexPath):\n",
    "            repInvIndexFile = open(self.repInvIndexPath)\n",
    "            self.invIndex = pickle.load(repInvIndexFile)\n",
    "            repInvIndexFile.close()\n",
    "        else:\n",
    "            self.invIndex = {}\n",
    "        if os.path.isfile(self.repInvFromAllPath):\n",
    "            repInvFromAllFile = open(self.repInvFromAllPath)\n",
    "            self.repInvFromAll = pickle.load(repInvFromAllFile)\n",
    "            repInvFromAllFile.close()\n",
    "        else:\n",
    "            self.repInvFromAll = {}\n",
    "        if os.path.isfile(self.linkIndexPath):\n",
    "            linkIndexFile = open(self.linkIndexPath)\n",
    "            self.linkIndex = pickle.load(linkIndexFile)\n",
    "            linkIndexFile.close()\n",
    "        else:\n",
    "            self.linkIndex = {}\n",
    "            \n",
    "        self.elements = {} # elements in self for optimisation reasons\n",
    "        \n",
    "    def __filters(self, doc):\n",
    "        '''Filters applied to each document of the collection'''\n",
    "        \n",
    "        return True\n",
    "    \n",
    "    def __getData(self, rep, index, id):\n",
    "        '''Return Something frequencies from a rep and his index at id==id'''\n",
    "        \n",
    "        id = str(id)\n",
    "        \n",
    "        if index=={}:\n",
    "            raise ValueError('Index undefined')\n",
    "        if not(os.path.isfile(rep)):\n",
    "            raise ValueError('Rep file does no exist')\n",
    "        if not(id in index):\n",
    "            raise ValueError('Bad Identifier')\n",
    "             \n",
    "        pos = index[id]\n",
    "        repFile = open(rep, 'r')\n",
    "        repFile.seek(pos[0])\n",
    "        rep = repFile.read(pos[1])\n",
    "        repFile.close()\n",
    "        \n",
    "        return rep\n",
    "        \n",
    "    def __freqFromData(self, data):\n",
    "    \n",
    "        freq = {}\n",
    "        total = 0\n",
    "        rep = data.split(':')\n",
    "        \n",
    "        for i in range(0, len(rep), 2):\n",
    "            added = int(rep[i+1])\n",
    "            freq[rep[i]] = added\n",
    "            total += added\n",
    "        freq[-1] = total\n",
    "        \n",
    "        return freq\n",
    "    \n",
    "    def __updatePosElements(self, doc):\n",
    "        '''Update pos and size of each element in inv index'''\n",
    "        \n",
    "        elements = self.elementsFromDoc(doc)\n",
    "        id = len(doc.getId())\n",
    "        \n",
    "        for element in elements:\n",
    "            \n",
    "            added = id+len(str(elements[element]))+2\n",
    "            if element in self.elements:\n",
    "                self.elements[element] += added\n",
    "            else:\n",
    "                self.elements[element] = added-1\n",
    "            \n",
    "        return self.elements\n",
    "    \n",
    "    def elementsFromDoc(self, doc):\n",
    "        '''Return an hashtable of the count of each element in a doc'''\n",
    "        \n",
    "        raise ValueError('Abstract method')\n",
    "    \n",
    "    def getEfFromDoc(self, id):\n",
    "        '''Return the element frequencies of a doc with identifier==id'''\n",
    "        \n",
    "        data = self.__getData(self.repPath, self.index, str(id))\n",
    "        return self.__freqFromData(data)\n",
    "            \n",
    "    def getDfFromEl(self, element):\n",
    "        '''Return the document frequencies of an element'''\n",
    "        \n",
    "        data = self.__getData(self.repInvPath, self.invIndex, str(element))\n",
    "        return self.__freqFromData(data)\n",
    "        \n",
    "    def getLinkFromDoc(self, id):\n",
    "        '''Return the links of a document'''\n",
    "        \n",
    "        return self.__getData(self.linkPath, self.linkIndex, str(id)).split(\";\")\n",
    "    \n",
    "    def getStrFromDoc(self, id):\n",
    "        '''Return the string of a doc with identifier==id in Col'''\n",
    "        \n",
    "        return self.__getData(self.collectionPath, self.indexFromCol, str(id))\n",
    "    \n",
    "    def getObjFromDoc(self, id):\n",
    "        '''Return the object of a doc with identifier==id in Col'''\n",
    "        \n",
    "        return self.parser.getDocument(self.getStrFromDoc(id))\n",
    "    \n",
    "    def createIndex(self):\n",
    "        \n",
    "        self.parser.initFile(self.collectionPath)\n",
    "        posCol = self.parser.file.tell()\n",
    "        doc = self.parser.nextDocument()\n",
    "        self.indexFromCol = {}\n",
    "        \n",
    "        while doc!=None:\n",
    "            \n",
    "            posCol2 = self.parser.file.tell()\n",
    "        \n",
    "            if self.__filters(doc)==True:\n",
    "                # Get pos in col and size of current doc\n",
    "                self.indexFromCol[doc.getId()] = [posCol, posCol2-posCol]\n",
    "                \n",
    "            doc = self.parser.nextDocument()\n",
    "            posCol = posCol2\n",
    "            \n",
    "        # Indexes'hashtable of doc in col\n",
    "        fromCol = open(self.fromCol, \"w\")\n",
    "        pickle.dump(self.indexFromCol, fromCol)\n",
    "        \n",
    "        fromCol.close()\n",
    "        \n",
    "    def createRepIndex(self):\n",
    "            \n",
    "        self.parser.initFile(self.collectionPath)\n",
    "        posCol = self.parser.file.tell()\n",
    "        doc = self.parser.nextDocument()\n",
    "        repFile = open(self.repPath, \"w\")\n",
    "        pos = 0\n",
    "        self.index = {}\n",
    "        self.indexFromCol = {}\n",
    "        \n",
    "        while doc!=None:\n",
    "            \n",
    "            posCol2 = self.parser.file.tell()\n",
    "            \n",
    "            if self.__filters(doc)==True:\n",
    "                # Get rep of current doc\n",
    "                elements = self.elementsFromDoc(doc)\n",
    "                toWrite = ''\n",
    "                for element in elements:\n",
    "                    toWrite += ':'+element+':'+str(elements[element])\n",
    "                toWrite = toWrite[1:]\n",
    "                # Get pos in index and size of current rep\n",
    "                self.index[doc.getId()] = [pos, len(toWrite)]\n",
    "                # Get pos in col and size of current doc\n",
    "                self.indexFromCol[doc.getId()] = [posCol, posCol2-posCol]\n",
    "                \n",
    "                repFile.write(toWrite)\n",
    "                pos += len(toWrite)\n",
    "                \n",
    "            doc = self.parser.nextDocument()\n",
    "            posCol = posCol2\n",
    "            \n",
    "        repFile.close()\n",
    "        \n",
    "        # Indexes'hashtable of rep\n",
    "        repIndexFile = open(self.repIndexPath, \"w\")\n",
    "        pickle.dump(self.index, repIndexFile)\n",
    "        # Indexes'hashtable of doc in col\n",
    "        fromCol = open(self.fromCol, \"w\")\n",
    "        pickle.dump(self.indexFromCol, fromCol)\n",
    "        \n",
    "        repIndexFile.close()\n",
    "        fromCol.close()\n",
    "        \n",
    "    def createRepInvIndex(self):\n",
    "        \n",
    "        # First pass\n",
    "        self.parser.initFile(self.collectionPath)\n",
    "        doc = self.parser.nextDocument()\n",
    "        self.elements = {}\n",
    "        self.invIndex = {}\n",
    "        \n",
    "        while doc!=None:\n",
    "            \n",
    "            if self.__filters(doc)==True:\n",
    "                # Updates pos and size of each element in inv index\n",
    "                self.__updatePosElements(doc)\n",
    "                \n",
    "            doc = self.parser.nextDocument()\n",
    "            \n",
    "        # Get pos and size of each elements from there size in inv index\n",
    "        cumsum = 0\n",
    "        for element in self.elements:\n",
    "            tmp = self.elements[element]\n",
    "            self.elements[element] = [cumsum, tmp]\n",
    "            cumsum += tmp\n",
    "\n",
    "        # Indexes'hashtable of elements in inv index\n",
    "        for element in self.elements:\n",
    "            self.invIndex[element] = self.elements[element]\n",
    "        repInvIndexFile = open(self.repInvIndexPath, \"w\")\n",
    "        pickle.dump(self.invIndex, repInvIndexFile)\n",
    "        repInvIndexFile.close()\n",
    "        \n",
    "        # Second pass\n",
    "        repInvFile = open(self.repInvPath, \"w\")\n",
    "        self.parser.initFile(self.collectionPath)\n",
    "        doc = self.parser.nextDocument()\n",
    "        \n",
    "        while doc!=None:\n",
    "            \n",
    "            if self.__filters(doc)==True:\n",
    "                elements = self.elementsFromDoc(doc)\n",
    "                toWrite = ''\n",
    "                for element in elements:\n",
    "                    toWrite = doc.getId()+':'+str(elements[element])+':'\n",
    "                    repInvFile.seek(self.elements[element][0])\n",
    "                    if (self.elements[element][1]-len(toWrite)) < 0:\n",
    "                        toWrite = toWrite[:-1]\n",
    "                    repInvFile.write(toWrite)\n",
    "                    self.elements[element][0] += len(toWrite)\n",
    "                    self.elements[element][1] -= len(toWrite)\n",
    "                    \n",
    "            doc = self.parser.nextDocument()\n",
    "        \n",
    "        repInvIndexFile = open(self.repInvIndexPath)\n",
    "        self.invIndex = pickle.load(repInvIndexFile)\n",
    "        repInvIndexFile.close()\n",
    "        repInvFile.close()\n",
    "        \n",
    "    def createRepInvFromAll(self):\n",
    "        \n",
    "        if self.index == {}:\n",
    "            raise ValueError('Rep index undefined')\n",
    "            \n",
    "        if self.invIndex == {}:\n",
    "            raise ValueError('Rep invIndex undefined')\n",
    "            \n",
    "        self.repInvFromAll = {}\n",
    "        \n",
    "        for element in self.invIndex:\n",
    "            docs = self.getDfFromEl(element)\n",
    "            docs.pop(-1)\n",
    "            self.repInvFromAll[element] = np.sum([docs[doc] for doc in docs])\n",
    "        \n",
    "        self.repInvFromAll[-1] = 0\n",
    "        for id in self.index:\n",
    "            freq = self.getEfFromDoc(id)\n",
    "            self.repInvFromAll[-1] += freq[-1]\n",
    "                \n",
    "        # Indexes'hashtable of doc in col\n",
    "        repInvFromAllFile = open(self.repInvFromAllPath, \"w\")\n",
    "        pickle.dump(self.repInvFromAll, repInvFromAllFile)\n",
    "\n",
    "        repInvFromAllFile.close()\n",
    "                \n",
    "    def createLinkIndex(self):\n",
    "        \n",
    "        if self.index == {}:\n",
    "            raise ValueError('Rep index undefined')\n",
    "            \n",
    "        if self.indexFromCol == {}:\n",
    "            raise ValueError('Rep invIndex undefined')\n",
    "        \n",
    "        self.linkIndex = {}\n",
    "        \n",
    "        linkFile = open(self.linkPath, \"w\")\n",
    "        pos = linkFile.tell()\n",
    "        \n",
    "        for id in self.index:\n",
    "            \n",
    "            doc = self.getObjFromDoc(id)\n",
    "            links = doc.get('links')[:-1]\n",
    "            linkFile.write(links)\n",
    "            pos2 = linkFile.tell()\n",
    "            self.linkIndex[id] = [pos, pos2-pos]\n",
    "            pos = pos2\n",
    "            \n",
    "        linkFile.close()\n",
    "        \n",
    "        linkIndexFile = open(self.linkIndexPath, \"w\")\n",
    "        pickle.dump(self.linkIndex, linkIndexFile)\n",
    "        linkIndexFile.close()\n",
    "            "
   ]
  },
  {
   "cell_type": "code",
   "execution_count": 65,
   "metadata": {
    "collapsed": false
   },
   "outputs": [],
   "source": [
    "class IndexerCACM(Indexer):\n",
    "    \n",
    "    def __init__(self, collectionPath, parser):\n",
    "        \n",
    "        Indexer.__init__(self, collectionPath, parser)\n",
    "        \n",
    "    def elementsFromDoc(self, doc):\n",
    "        \n",
    "        elements = {}\n",
    "        text = doc.getText()\n",
    "        stop_words = set(stopwords.words('english'))\n",
    "\n",
    "        # preprocessing\n",
    "        text = text.lower()\n",
    "        text = re.sub(r'(!|#|\"|%|\\$|\\'|&|\\)|\\(|\\+|\\*|(^| )(-( |$))+|,|/|\\.|;|:|=|<|\\?|>|@|[|]|\\|_|^|`|{|}|\\||~)', ' ', text)\n",
    "        text = re.sub(r'\\n', ' ', text)\n",
    "        text = re.sub(r'\\d+', '', text)\n",
    "        text = re.sub(r'(^| )(\\w($| ))+', ' ', text)\n",
    "        text = re.sub(r' +', ' ', text)\n",
    "        \n",
    "        stemmer = PorterStemmer()\n",
    "\n",
    "        return stemmer.getTextRepresentation(text)\n",
    " "
   ]
  },
  {
   "cell_type": "markdown",
   "metadata": {},
   "source": [
    "## Demo"
   ]
  },
  {
   "cell_type": "markdown",
   "metadata": {},
   "source": [
    "### Constructions of Index and Inversed Index"
   ]
  },
  {
   "cell_type": "code",
   "execution_count": 66,
   "metadata": {
    "collapsed": false,
    "scrolled": false
   },
   "outputs": [
    {
     "name": "stdout",
     "output_type": "stream",
     "text": [
      "<__main__.IndexerCACM object at 0x7f51ce5c3cd0>\n"
     ]
    }
   ],
   "source": [
    "indexer = IndexerCACM(collectionPath, ParserCACM())\n",
    "\n",
    "# If Index and Inv Index aren't already builded\n",
    "#indexer.createRepIndex()\n",
    "#indexer.createRepInvIndex()\n",
    "#indexer.createRepInvFromAll()\n",
    "#indexer.createLinkIndex()\n",
    "\n",
    "print(indexer)"
   ]
  },
  {
   "cell_type": "markdown",
   "metadata": {},
   "source": [
    "### Get string from document"
   ]
  },
  {
   "cell_type": "code",
   "execution_count": 67,
   "metadata": {
    "collapsed": false
   },
   "outputs": [
    {
     "name": "stdout",
     "output_type": "stream",
     "text": [
      ".I 111\n",
      ".T\n",
      "On Programming the Numerical Solution of Polynomial Equations\n",
      ".W\n",
      "Numerical techniques are presented for computing\n",
      "the roots of polynomial equations.  By applying \n",
      "the recommended scaling and inversion rules, the basic\n",
      "Bairstow and Newton-Raphson iterative techniques \n",
      "can be applied with great reliability.  Both a high degree\n",
      "of accuracy and rapid convergence are realized. \n",
      " Numerical examples are shown to illustrate the pitfalls\n",
      "and to show how these are circumvented by application \n",
      "of the recommended procedures.\n",
      ".B\n",
      "CACM December, 1960\n",
      ".A\n",
      "Ellenberger, K. W.\n",
      ".N\n",
      "CA601205 JB March 20, 1978  6:41 PM\n",
      ".X\n",
      "111\t5\t111\n",
      "111\t5\t111\n",
      "111\t5\t111\n",
      "\n",
      "\n"
     ]
    }
   ],
   "source": [
    "print(indexer.getStrFromDoc(111))"
   ]
  },
  {
   "cell_type": "markdown",
   "metadata": {},
   "source": [
    "### Get obj from Doc"
   ]
  },
  {
   "cell_type": "code",
   "execution_count": 53,
   "metadata": {
    "collapsed": false
   },
   "outputs": [
    {
     "name": "stdout",
     "output_type": "stream",
     "text": [
      " Accelerating Convergence of Iterative Processes \n",
      "  Wegstein, J. H. \n",
      "  \n",
      "  A technique is discussed which, when applied to an iterative procedure for the solution of an equation, accelerates the rate of convergence if the iteration converges and induces convergence if the iteration diverges.  An illustrative example is given.\n"
     ]
    }
   ],
   "source": [
    "obj = indexer.getObjFromDoc(20)\n",
    "print(obj.getText())"
   ]
  },
  {
   "cell_type": "markdown",
   "metadata": {},
   "source": [
    "### Get element frequencies from document"
   ]
  },
  {
   "cell_type": "code",
   "execution_count": 54,
   "metadata": {
    "collapsed": false
   },
   "outputs": [
    {
     "name": "stdout",
     "output_type": "stream",
     "text": [
      "{'acceler': 1, 'techniqu': 1, 'process': 1, 'appli': 1, 'induc': 1, 'accelerat': 1, 'solut': 1, 'wegstein': 1, 'procedur': 1, 'converg': 4, 'rate': 1, 'exampl': 1, 'iter': 4, 'illustr': 1, 'diverg': 1, 'discuss': 1, -1: 23, 'equat': 1}\n"
     ]
    }
   ],
   "source": [
    "print(indexer.getEfFromDoc(20))"
   ]
  },
  {
   "cell_type": "markdown",
   "metadata": {},
   "source": [
    "### Get document frequencies from element"
   ]
  },
  {
   "cell_type": "code",
   "execution_count": 49,
   "metadata": {
    "collapsed": false
   },
   "outputs": [
    {
     "name": "stdout",
     "output_type": "stream",
     "text": [
      "{'1665': 3, '1552': 2, -1: 5}\n"
     ]
    }
   ],
   "source": [
    "print(indexer.getDfFromEl('a'))"
   ]
  },
  {
   "cell_type": "markdown",
   "metadata": {
    "collapsed": true
   },
   "source": [
    "# Queries Indexing"
   ]
  },
  {
   "cell_type": "markdown",
   "metadata": {},
   "source": [
    "### Queries Indexer"
   ]
  },
  {
   "cell_type": "code",
   "execution_count": 39,
   "metadata": {
    "collapsed": false
   },
   "outputs": [
    {
     "name": "stdout",
     "output_type": "stream",
     "text": [
      "{'56': [11573, 146], '54': [11134, 290], '42': [8905, 189], '48': [10140, 285], '43': [9094, 212], '60': [12677, 325], '61': [13002, 258], '62': [13260, 138], '63': [13398, 143], '64': [13541, 144], '49': [10425, 120], '52': [10728, 84], '53': [10812, 322], '24': [3968, 87], '25': [4055, 104], '26': [4159, 110], '27': [4269, 102], '20': [3323, 126], '21': [3449, 186], '22': [3635, 225], '23': [3860, 108], '46': [9709, 198], '47': [9907, 233], '44': [9306, 136], '45': [9442, 267], '28': [4371, 263], '29': [4634, 165], '40': [8091, 328], '41': [8419, 486], '1': [0, 169], '3': [347, 150], '2': [169, 178], '5': [918, 294], '4': [497, 421], '7': [1415, 311], '6': [1212, 203], '9': [1871, 149], '8': [1726, 145], '51': [10655, 73], '39': [7811, 280], '38': [7529, 282], '59': [12422, 255], '58': [12122, 300], '11': [2147, 96], '10': [2020, 127], '13': [2322, 94], '12': [2243, 79], '15': [2596, 192], '14': [2416, 180], '17': [2960, 108], '16': [2788, 172], '19': [3243, 80], '18': [3068, 175], '31': [4971, 480], '30': [4799, 172], '37': [7092, 437], '36': [6959, 133], '35': [6677, 282], '34': [6426, 251], '33': [5805, 621], '55': [11424, 149], '32': [5451, 354], '57': [11719, 403], '50': [10545, 110]}\n"
     ]
    }
   ],
   "source": [
    "queriesPath = 'data/cacm/cacm.qry'\n",
    "parser = ParserCACM()\n",
    "queriesIndexer = IndexerCACM(queriesPath, ParserCACM())\n",
    "\n",
    "# If Index isn't already builded\n",
    "queriesIndexer.createRepIndex()\n",
    "print(queriesIndexer.indexFromCol)"
   ]
  },
  {
   "cell_type": "markdown",
   "metadata": {},
   "source": [
    "### Relevant Indexer"
   ]
  },
  {
   "cell_type": "code",
   "execution_count": 36,
   "metadata": {
    "collapsed": false
   },
   "outputs": [],
   "source": [
    "class RelevantParser(Parser):\n",
    "\n",
    "    def __init__(self):\n",
    "        \n",
    "        Parser.__init__(self, '')\n",
    "        self.curId = None\n",
    "    \n",
    "    def nextDocument(self):\n",
    "        \n",
    "        if self.curId==None:\n",
    "            self.curLine = self.file.readline()\n",
    "            if self.curLine!=None:\n",
    "                self.curId = ((self.curLine).split())[0]\n",
    "            \n",
    "        id = self.curId\n",
    "        text = ''\n",
    "        \n",
    "        while(id==self.curId and self.curLine!=''):\n",
    "            text += self.curLine\n",
    "            pos = self.file.tell()\n",
    "            self.curLine = self.file.readline()\n",
    "            if self.curLine!='':\n",
    "                self.curId = ((self.curLine).split())[0]\n",
    "        if self.curLine!='':\n",
    "            self.file.seek(pos)\n",
    "        \n",
    "        if text=='':\n",
    "            return None\n",
    "        \n",
    "        return self.getDocument(text)\n",
    "        \n",
    "    def getDocument(self, text):\n",
    "        \n",
    "        tab = \\\n",
    "        [\n",
    "            [str(int((i.split())[1])), int((i.split())[2]), int((i.split())[3])] \\\n",
    "            for i in text.split('\\n')[:-1] \\\n",
    "        ]\n",
    "        identifier = str(int(text.split()[0]))\n",
    "        \n",
    "        return Document(identifier, others={'tab': tab})\n"
   ]
  },
  {
   "cell_type": "code",
   "execution_count": 37,
   "metadata": {
    "collapsed": false
   },
   "outputs": [],
   "source": [
    "relevantPath = 'data/cacm/cacm.rel'\n",
    "relevantIndexer = Indexer(relevantPath, RelevantParser())\n",
    "\n",
    "# If Index and Inv Index aren't already builded\n",
    "relevantIndexer.createIndex()"
   ]
  },
  {
   "cell_type": "code",
   "execution_count": 38,
   "metadata": {
    "collapsed": false
   },
   "outputs": [
    {
     "name": "stdout",
     "output_type": "stream",
     "text": [
      "{'42': [6612, 252], '48': [7872, 144], '43': [6864, 492], '60': [9000, 324], '61': [9324, 372], '62': [9696, 96], '63': [9792, 144], '64': [9936, 12], '49': [8016, 96], '24': [3712, 169], '25': [3881, 663], '26': [4544, 390], '27': [4934, 377], '20': [3267, 36], '21': [3303, 143], '22': [3446, 214], '23': [3660, 52], '44': [7356, 204], '45': [7560, 312], '28': [5311, 64], '29': [5375, 247], '40': [6492, 120], '1': [0, 65], '3': [104, 78], '2': [65, 39], '5': [338, 101], '4': [182, 156], '7': [478, 364], '6': [439, 39], '9': [879, 113], '8': [842, 37], '39': [6348, 144], '38': [6156, 192], '59': [8484, 516], '58': [8124, 360], '11': [1447, 247], '10': [992, 455], '13': [1759, 143], '12': [1694, 65], '15': [2450, 126], '14': [1902, 548], '17': [2784, 208], '16': [2576, 208], '19': [3135, 132], '18': [2992, 143], '31': [5674, 26], '30': [5622, 52], '37': [6012, 144], '36': [5752, 260], '33': [5739, 13], '32': [5700, 39], '57': [8112, 12]}\n"
     ]
    }
   ],
   "source": [
    "print(relevantIndexer.indexFromCol)"
   ]
  },
  {
   "cell_type": "markdown",
   "metadata": {},
   "source": [
    "### Query Object"
   ]
  },
  {
   "cell_type": "code",
   "execution_count": 40,
   "metadata": {
    "collapsed": false
   },
   "outputs": [],
   "source": [
    "class Query(object):\n",
    "\n",
    "    def __init__(self, id, text=\"\", el=None, relevants=None):\n",
    "        \n",
    "        self.id = id\n",
    "        self.text = text\n",
    "        self.el = el\n",
    "        self.relevants = relevants\n",
    "        \n",
    "def query(id, queriesIndexer, relevantIndexer):\n",
    "    \n",
    "    id = str(id)\n",
    "    text = queriesIndexer.getObjFromDoc(id).getText()\n",
    "    el = queriesIndexer.getEfFromDoc(id)\n",
    "    relevants = relevantIndexer.getObjFromDoc(id).get('tab')\n",
    "    \n",
    "    return Query(id, text, el, relevants)"
   ]
  },
  {
   "cell_type": "code",
   "execution_count": 41,
   "metadata": {
    "collapsed": false
   },
   "outputs": [
    {
     "name": "stdout",
     "output_type": "stream",
     "text": [
      "('Id : ', '5')\n",
      "('Text : ', \" \\n  \\n  \\n   I'd like papers on design and implementation of editing interfaces, window-managers, command interpreters, etc.  The essential issues are human interface design, with views on improvements to user efficiency, effectiveness and satisfaction.\")\n",
      "('Elements : ', {-1: 20, 'effici': 1, 'satisfact': 1, 'essenti': 1, 'command': 1, 'effect': 1, 'issu': 1, 'edit': 1, 'window': 1, 'paper': 1, 'design': 2, 'user': 1, 'human': 1, 'interfac': 2, 'improv': 1, 'implement': 1, 'manag': 1, 'interpret': 1, 'view': 1})\n",
      "('Relevants : ', [['756', 0, 0], ['1307', 0, 0], ['1502', 0, 0], ['2035', 0, 0], ['2299', 0, 0], ['2399', 0, 0], ['2501', 0, 0], ['2820', 0, 0]])\n"
     ]
    }
   ],
   "source": [
    "q = query(5, queriesIndexer, relevantIndexer)\n",
    "print('Id : ', q.id)\n",
    "print('Text : ', q.text)\n",
    "print('Elements : ', q.el)\n",
    "print('Relevants : ', q.relevants)"
   ]
  },
  {
   "cell_type": "markdown",
   "metadata": {
    "collapsed": true
   },
   "source": [
    "### Analysis of the collection"
   ]
  },
  {
   "cell_type": "code",
   "execution_count": 171,
   "metadata": {
    "collapsed": false
   },
   "outputs": [
    {
     "name": "stdout",
     "output_type": "stream",
     "text": [
      "('Size of vocabulary', 7620)\n"
     ]
    }
   ],
   "source": [
    "print('Size of vocabulary', len(indexer.invIndex))\n",
    "d = copy(indexer.repInvFromAll)\n",
    "d.pop(-1)\n",
    "data = pd.DataFrame(d, index=[0])\n",
    "data = pd.melt(data)"
   ]
  },
  {
   "cell_type": "markdown",
   "metadata": {},
   "source": [
    "#### Stemmer critic"
   ]
  },
  {
   "cell_type": "code",
   "execution_count": 180,
   "metadata": {
    "collapsed": false
   },
   "outputs": [
    {
     "name": "stdout",
     "output_type": "stream",
     "text": [
      "('typographical', 'typographic')\n"
     ]
    }
   ],
   "source": [
    "print(stem('typographical'), stem('typographic'))"
   ]
  },
  {
   "cell_type": "markdown",
   "metadata": {},
   "source": [
    "#### Vocabulary"
   ]
  },
  {
   "cell_type": "code",
   "execution_count": 172,
   "metadata": {
    "collapsed": false
   },
   "outputs": [
    {
     "name": "stderr",
     "output_type": "stream",
     "text": [
      "/home/mcrilo33/.anaconda3/envs/python2/lib/python2.7/site-packages/ipykernel/__main__.py:1: FutureWarning: sort(columns=....) is deprecated, use sort_values(by=.....)\n",
      "  if __name__ == '__main__':\n"
     ]
    },
    {
     "data": {
      "text/html": [
       "<div>\n",
       "<table border=\"1\" class=\"dataframe\">\n",
       "  <thead>\n",
       "    <tr style=\"text-align: right;\">\n",
       "      <th></th>\n",
       "      <th>variable</th>\n",
       "      <th>value</th>\n",
       "    </tr>\n",
       "  </thead>\n",
       "  <tbody>\n",
       "    <tr>\n",
       "      <th>6955</th>\n",
       "      <td>traine</td>\n",
       "      <td>1</td>\n",
       "    </tr>\n",
       "    <tr>\n",
       "      <th>7079</th>\n",
       "      <td>typographical</td>\n",
       "      <td>1</td>\n",
       "    </tr>\n",
       "    <tr>\n",
       "      <th>7078</th>\n",
       "      <td>typographic</td>\n",
       "      <td>1</td>\n",
       "    </tr>\n",
       "    <tr>\n",
       "      <th>5417</th>\n",
       "      <td>quasiliner</td>\n",
       "      <td>1</td>\n",
       "    </tr>\n",
       "    <tr>\n",
       "      <th>4538</th>\n",
       "      <td>noncyclic</td>\n",
       "      <td>1</td>\n",
       "    </tr>\n",
       "    <tr>\n",
       "      <th>4540</th>\n",
       "      <td>nondegener</td>\n",
       "      <td>1</td>\n",
       "    </tr>\n",
       "    <tr>\n",
       "      <th>5401</th>\n",
       "      <td>quadrilater</td>\n",
       "      <td>1</td>\n",
       "    </tr>\n",
       "    <tr>\n",
       "      <th>4568</th>\n",
       "      <td>nonoverlapp</td>\n",
       "      <td>1</td>\n",
       "    </tr>\n",
       "    <tr>\n",
       "      <th>4576</th>\n",
       "      <td>nonprefer</td>\n",
       "      <td>1</td>\n",
       "    </tr>\n",
       "    <tr>\n",
       "      <th>4580</th>\n",
       "      <td>nonprofession</td>\n",
       "      <td>1</td>\n",
       "    </tr>\n",
       "    <tr>\n",
       "      <th>6664</th>\n",
       "      <td>syllabic</td>\n",
       "      <td>1</td>\n",
       "    </tr>\n",
       "    <tr>\n",
       "      <th>6667</th>\n",
       "      <td>sylvester</td>\n",
       "      <td>1</td>\n",
       "    </tr>\n",
       "    <tr>\n",
       "      <th>3073</th>\n",
       "      <td>hyphenation</td>\n",
       "      <td>1</td>\n",
       "    </tr>\n",
       "    <tr>\n",
       "      <th>3072</th>\n",
       "      <td>hyphenat</td>\n",
       "      <td>1</td>\n",
       "    </tr>\n",
       "    <tr>\n",
       "      <th>4599</th>\n",
       "      <td>nonswapp</td>\n",
       "      <td>1</td>\n",
       "    </tr>\n",
       "    <tr>\n",
       "      <th>5360</th>\n",
       "      <td>psychologi</td>\n",
       "      <td>1</td>\n",
       "    </tr>\n",
       "    <tr>\n",
       "      <th>4601</th>\n",
       "      <td>nonsymmetric</td>\n",
       "      <td>1</td>\n",
       "    </tr>\n",
       "    <tr>\n",
       "      <th>5358</th>\n",
       "      <td>psycholinguistic</td>\n",
       "      <td>1</td>\n",
       "    </tr>\n",
       "    <tr>\n",
       "      <th>7023</th>\n",
       "      <td>triphas</td>\n",
       "      <td>1</td>\n",
       "    </tr>\n",
       "    <tr>\n",
       "      <th>3069</th>\n",
       "      <td>hypersurface</td>\n",
       "      <td>1</td>\n",
       "    </tr>\n",
       "    <tr>\n",
       "      <th>3067</th>\n",
       "      <td>hyperstructure</td>\n",
       "      <td>1</td>\n",
       "    </tr>\n",
       "    <tr>\n",
       "      <th>6677</th>\n",
       "      <td>symmetricalli</td>\n",
       "      <td>1</td>\n",
       "    </tr>\n",
       "    <tr>\n",
       "      <th>7018</th>\n",
       "      <td>trimm</td>\n",
       "      <td>1</td>\n",
       "    </tr>\n",
       "    <tr>\n",
       "      <th>1339</th>\n",
       "      <td>contemplat</td>\n",
       "      <td>1</td>\n",
       "    </tr>\n",
       "    <tr>\n",
       "      <th>652</th>\n",
       "      <td>bluff</td>\n",
       "      <td>1</td>\n",
       "    </tr>\n",
       "    <tr>\n",
       "      <th>176</th>\n",
       "      <td>alleviat</td>\n",
       "      <td>1</td>\n",
       "    </tr>\n",
       "    <tr>\n",
       "      <th>1321</th>\n",
       "      <td>consolidat</td>\n",
       "      <td>1</td>\n",
       "    </tr>\n",
       "    <tr>\n",
       "      <th>2683</th>\n",
       "      <td>goldfing</td>\n",
       "      <td>1</td>\n",
       "    </tr>\n",
       "    <tr>\n",
       "      <th>627</th>\n",
       "      <td>bitwis</td>\n",
       "      <td>1</td>\n",
       "    </tr>\n",
       "    <tr>\n",
       "      <th>7094</th>\n",
       "      <td>unauthoriz</td>\n",
       "      <td>1</td>\n",
       "    </tr>\n",
       "    <tr>\n",
       "      <th>...</th>\n",
       "      <td>...</td>\n",
       "      <td>...</td>\n",
       "    </tr>\n",
       "    <tr>\n",
       "      <th>2254</th>\n",
       "      <td>experi</td>\n",
       "      <td>799</td>\n",
       "    </tr>\n",
       "    <tr>\n",
       "      <th>1315</th>\n",
       "      <td>consid</td>\n",
       "      <td>817</td>\n",
       "    </tr>\n",
       "    <tr>\n",
       "      <th>6772</th>\n",
       "      <td>techniqu</td>\n",
       "      <td>826</td>\n",
       "    </tr>\n",
       "    <tr>\n",
       "      <th>7257</th>\n",
       "      <td>valu</td>\n",
       "      <td>833</td>\n",
       "    </tr>\n",
       "    <tr>\n",
       "      <th>5625</th>\n",
       "      <td>relat</td>\n",
       "      <td>836</td>\n",
       "    </tr>\n",
       "    <tr>\n",
       "      <th>6469</th>\n",
       "      <td>storag</td>\n",
       "      <td>838</td>\n",
       "    </tr>\n",
       "    <tr>\n",
       "      <th>3223</th>\n",
       "      <td>inform</td>\n",
       "      <td>838</td>\n",
       "    </tr>\n",
       "    <tr>\n",
       "      <th>1716</th>\n",
       "      <td>design</td>\n",
       "      <td>844</td>\n",
       "    </tr>\n",
       "    <tr>\n",
       "      <th>4846</th>\n",
       "      <td>paper</td>\n",
       "      <td>855</td>\n",
       "    </tr>\n",
       "    <tr>\n",
       "      <th>4642</th>\n",
       "      <td>number</td>\n",
       "      <td>916</td>\n",
       "    </tr>\n",
       "    <tr>\n",
       "      <th>1732</th>\n",
       "      <td>develop</td>\n",
       "      <td>931</td>\n",
       "    </tr>\n",
       "    <tr>\n",
       "      <th>1712</th>\n",
       "      <td>describ</td>\n",
       "      <td>938</td>\n",
       "    </tr>\n",
       "    <tr>\n",
       "      <th>5228</th>\n",
       "      <td>present</td>\n",
       "      <td>953</td>\n",
       "    </tr>\n",
       "    <tr>\n",
       "      <th>6788</th>\n",
       "      <td>telescop</td>\n",
       "      <td>970</td>\n",
       "    </tr>\n",
       "    <tr>\n",
       "      <th>2551</th>\n",
       "      <td>function</td>\n",
       "      <td>984</td>\n",
       "    </tr>\n",
       "    <tr>\n",
       "      <th>6509</th>\n",
       "      <td>structur</td>\n",
       "      <td>989</td>\n",
       "    </tr>\n",
       "    <tr>\n",
       "      <th>2619</th>\n",
       "      <td>gener</td>\n",
       "      <td>1026</td>\n",
       "    </tr>\n",
       "    <tr>\n",
       "      <th>5280</th>\n",
       "      <td>process</td>\n",
       "      <td>1077</td>\n",
       "    </tr>\n",
       "    <tr>\n",
       "      <th>5274</th>\n",
       "      <td>problem</td>\n",
       "      <td>1185</td>\n",
       "    </tr>\n",
       "    <tr>\n",
       "      <th>5297</th>\n",
       "      <td>programm</td>\n",
       "      <td>1244</td>\n",
       "    </tr>\n",
       "    <tr>\n",
       "      <th>1576</th>\n",
       "      <td>data</td>\n",
       "      <td>1252</td>\n",
       "    </tr>\n",
       "    <tr>\n",
       "      <th>6996</th>\n",
       "      <td>treesort</td>\n",
       "      <td>1287</td>\n",
       "    </tr>\n",
       "    <tr>\n",
       "      <th>3528</th>\n",
       "      <td>ki</td>\n",
       "      <td>1303</td>\n",
       "    </tr>\n",
       "    <tr>\n",
       "      <th>5938</th>\n",
       "      <td>scale</td>\n",
       "      <td>1337</td>\n",
       "    </tr>\n",
       "    <tr>\n",
       "      <th>4169</th>\n",
       "      <td>method</td>\n",
       "      <td>1342</td>\n",
       "    </tr>\n",
       "    <tr>\n",
       "      <th>3667</th>\n",
       "      <td>languag</td>\n",
       "      <td>1396</td>\n",
       "    </tr>\n",
       "    <tr>\n",
       "      <th>6887</th>\n",
       "      <td>time</td>\n",
       "      <td>1522</td>\n",
       "    </tr>\n",
       "    <tr>\n",
       "      <th>5296</th>\n",
       "      <td>program</td>\n",
       "      <td>1593</td>\n",
       "    </tr>\n",
       "    <tr>\n",
       "      <th>165</th>\n",
       "      <td>algorithm</td>\n",
       "      <td>2380</td>\n",
       "    </tr>\n",
       "    <tr>\n",
       "      <th>1255</th>\n",
       "      <td>comput</td>\n",
       "      <td>2864</td>\n",
       "    </tr>\n",
       "  </tbody>\n",
       "</table>\n",
       "<p>7620 rows × 2 columns</p>\n",
       "</div>"
      ],
      "text/plain": [
       "              variable  value\n",
       "6955            traine      1\n",
       "7079     typographical      1\n",
       "7078       typographic      1\n",
       "5417        quasiliner      1\n",
       "4538         noncyclic      1\n",
       "4540        nondegener      1\n",
       "5401       quadrilater      1\n",
       "4568       nonoverlapp      1\n",
       "4576         nonprefer      1\n",
       "4580     nonprofession      1\n",
       "6664          syllabic      1\n",
       "6667         sylvester      1\n",
       "3073       hyphenation      1\n",
       "3072          hyphenat      1\n",
       "4599          nonswapp      1\n",
       "5360        psychologi      1\n",
       "4601      nonsymmetric      1\n",
       "5358  psycholinguistic      1\n",
       "7023           triphas      1\n",
       "3069      hypersurface      1\n",
       "3067    hyperstructure      1\n",
       "6677     symmetricalli      1\n",
       "7018             trimm      1\n",
       "1339        contemplat      1\n",
       "652              bluff      1\n",
       "176           alleviat      1\n",
       "1321        consolidat      1\n",
       "2683          goldfing      1\n",
       "627             bitwis      1\n",
       "7094        unauthoriz      1\n",
       "...                ...    ...\n",
       "2254            experi    799\n",
       "1315            consid    817\n",
       "6772          techniqu    826\n",
       "7257              valu    833\n",
       "5625             relat    836\n",
       "6469            storag    838\n",
       "3223            inform    838\n",
       "1716            design    844\n",
       "4846             paper    855\n",
       "4642            number    916\n",
       "1732           develop    931\n",
       "1712           describ    938\n",
       "5228           present    953\n",
       "6788          telescop    970\n",
       "2551          function    984\n",
       "6509          structur    989\n",
       "2619             gener   1026\n",
       "5280           process   1077\n",
       "5274           problem   1185\n",
       "5297          programm   1244\n",
       "1576              data   1252\n",
       "6996          treesort   1287\n",
       "3528                ki   1303\n",
       "5938             scale   1337\n",
       "4169            method   1342\n",
       "3667           languag   1396\n",
       "6887              time   1522\n",
       "5296           program   1593\n",
       "165          algorithm   2380\n",
       "1255            comput   2864\n",
       "\n",
       "[7620 rows x 2 columns]"
      ]
     },
     "execution_count": 172,
     "metadata": {},
     "output_type": "execute_result"
    }
   ],
   "source": [
    "data.sort(columns='value')"
   ]
  },
  {
   "cell_type": "code",
   "execution_count": 174,
   "metadata": {
    "collapsed": false
   },
   "outputs": [
    {
     "data": {
      "image/png": "[encoded data removed]",
      "text/plain": [
       "<matplotlib.figure.Figure at 0x7f51adface10>"
      ]
     },
     "metadata": {},
     "output_type": "display_data"
    },
    {
     "data": {
      "text/plain": [
       "<ggplot: (8749299102953)>"
      ]
     },
     "execution_count": 174,
     "metadata": {},
     "output_type": "execute_result"
    }
   ],
   "source": [
    "ggplot(aes(x='value'), data=data) + \\\n",
    "    geom_density() + \\\n",
    "    ggtitle('Histogram of Word Frequency in the whole corpus')"
   ]
  },
  {
   "cell_type": "code",
   "execution_count": null,
   "metadata": {
    "collapsed": true
   },
   "outputs": [],
   "source": []
  }
 ],
 "metadata": {
  "anaconda-cloud": {},
  "kernelspec": {
   "display_name": "Python [conda env:python2]",
   "language": "python",
   "name": "conda-env-python2-py"
  },
  "language_info": {
   "codemirror_mode": {
    "name": "ipython",
    "version": 2
   },
   "file_extension": ".py",
   "mimetype": "text/x-python",
   "name": "python",
   "nbconvert_exporter": "python",
   "pygments_lexer": "ipython2",
   "version": "2.7.12"
  }
 },
 "nbformat": 4,
 "nbformat_minor": 0
}
