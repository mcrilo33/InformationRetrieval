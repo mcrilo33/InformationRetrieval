{
 "cells": [
  {
   "cell_type": "markdown",
   "metadata": {},
   "source": [
    "# Probabilistic Models"
   ]
  },
  {
   "cell_type": "code",
   "execution_count": 1,
   "metadata": {
    "collapsed": false
   },
   "outputs": [],
   "source": [
    "import os\n",
    "import re\n",
    "import pickle\n",
    "import time\n",
    "import numpy as np\n",
    "from IndexerCACM import *\n",
    "from RelevantParser import *\n",
    "from Query import *\n",
    "from IRmodel import *\n",
    "from Vector import *\n",
    "from copy import *"
   ]
  },
  {
   "cell_type": "markdown",
   "metadata": {},
   "source": [
    "### Get Indexers"
   ]
  },
  {
   "cell_type": "code",
   "execution_count": 2,
   "metadata": {
    "collapsed": true
   },
   "outputs": [],
   "source": [
    "# Processed collections \n",
    "collectionPath = 'data/cacm/cacm.txt'\n",
    "collectionPath2 = 'data/cisi/cisi.txt'\n",
    "queriesPath = 'data/cacm/cacm.qry'\n",
    "relevantPath = 'data/cacm/cacm.rel'"
   ]
  },
  {
   "cell_type": "code",
   "execution_count": 3,
   "metadata": {
    "collapsed": true
   },
   "outputs": [],
   "source": [
    "indexer = IndexerCACM(collectionPath, ParserCACM())\n",
    "\n",
    "# If Index and Inv Index aren't already builded\n",
    "#indexer.createRepIndex()\n",
    "#indexer.createRepInvIndex()\n",
    "#indexer.createRepInvFromAll()\n",
    "\n",
    "queriesIndexer = IndexerCACM(queriesPath, ParserCACM())\n",
    "\n",
    "# If Index isn't already builded\n",
    "#queriesIndexer.createRepIndex()\n",
    "\n",
    "relevantIndexer = Indexer(relevantPath, RelevantParser())\n",
    "\n",
    "# If Index and Inv Index aren't already builded\n",
    "#relevantIndexer.createIndex()"
   ]
  },
  {
   "cell_type": "code",
   "execution_count": 4,
   "metadata": {
    "collapsed": false
   },
   "outputs": [
    {
     "name": "stdout",
     "output_type": "stream",
     "text": [
      "(<Query.Query object at 0x7fa817ae7d10>, <Query.Query object at 0x7fa844448410>)\n"
     ]
    }
   ],
   "source": [
    "q = query(1, queriesIndexer, relevantIndexer)\n",
    "q2 = query(10, queriesIndexer, relevantIndexer)\n",
    "print(q, q2)"
   ]
  },
  {
   "cell_type": "markdown",
   "metadata": {},
   "source": [
    "$P_M(s) = \\prod_{i=1}^n p_M(s_i)$\n",
    "\n",
    "where $P_M(s)$ probability to observe sequence of words $s$ with language model $M$."
   ]
  },
  {
   "cell_type": "markdown",
   "metadata": {},
   "source": [
    "We want to use this measure to compare documents with a query so we can be satisfied with something proportional to this (so we can use $\\log$).\n",
    "\n",
    "It leads to this measure :\n",
    "\n",
    "$f(q,d) = \\log P_{M_d}(q) = \\sum_{t\\in q} tf(t,q)\\log p_{M_d}(t)$\n",
    "\n",
    "where $q$ is a query, $d$ a document, $t$ a term.\n",
    "\n",
    "And we have $p_{M_d}(t)$ equal to $\\frac{tf(t,d)}{L(d)}$\n",
    "\n",
    "** Sometimes t from q isn't in d ** it leads to,\n",
    "\n",
    "$\\log p_M(t) = -\\infty $ cad $\\log P_{M_d}(q) = -\\infty$ even if other terms from q give a good similarity with $M_d$.\n",
    "\n",
    "Good method to avoid that is a smoothed prob :\n",
    "\n",
    "$\\log p_M(t) = \\log(\\lambda p_{M_d}(t)+(1-\\lambda)p_{M_c}(t)))$\n",
    "\n",
    "where $M_C$ is the model language on the whole corpus."
   ]
  },
  {
   "cell_type": "code",
   "execution_count": 15,
   "metadata": {
    "collapsed": false
   },
   "outputs": [],
   "source": [
    "class LanguageModel(IRmodel):\n",
    "    \n",
    "    def __init__(self, indexer, lbd=1):\n",
    "\n",
    "        IRmodel.__init__(self, indexer)\n",
    "        self.lbd = lbd\n",
    "    \n",
    "    def logPm(self, id, element):\n",
    "        \n",
    "        freq = indexer.getEfFromDoc(id)\n",
    "        if element in freq:\n",
    "            return np.log(freq[element]/freq[-1])\n",
    "        else:\n",
    "            return 0\n",
    "    \n",
    "    def logPmAll(self, element):\n",
    "        \n",
    "        if element in indexer.repInvFromAll:\n",
    "            return indexer.repInvFromAll[element] \\\n",
    "                /indexer.repInvFromAll[-1]\n",
    "        else:\n",
    "            return 0\n",
    "            \n",
    "    def getScores(self, query):\n",
    "        \n",
    "        scores = np.zeros(self.nDoc, [('id', 'a25'), ('score', 'float64')])\n",
    "        \n",
    "        i = 0\n",
    "        for id in self.indexer.index:\n",
    "            \n",
    "            score = 0\n",
    "            for element in query:\n",
    "                \n",
    "                score += np.log(self.lbd*self.logPm(id, element) \\\n",
    "                    + (1 - self.lbd)*self.logPmAll(element))\n",
    "            \n",
    "            scores[i]['score'] = score\n",
    "            \n",
    "            i += 1\n",
    "                \n",
    "        return np.array(scores)\n",
    "                "
   ]
  },
  {
   "cell_type": "code",
   "execution_count": 16,
   "metadata": {
    "collapsed": false
   },
   "outputs": [
    {
     "name": "stderr",
     "output_type": "stream",
     "text": [
      "/home/mcrilo33/.anaconda3/envs/python2/lib/python2.7/site-packages/ipykernel/__main__.py:33: RuntimeWarning: divide by zero encountered in log\n",
      "/home/mcrilo33/.anaconda3/envs/python2/lib/python2.7/site-packages/ipykernel/__main__.py:33: RuntimeWarning: invalid value encountered in log\n"
     ]
    },
    {
     "name": "stdout",
     "output_type": "stream",
     "text": [
      "21.9315989017\n"
     ]
    },
    {
     "data": {
      "text/plain": [
       "array([('', nan), ('', nan), ('', nan), ('', nan), ('', nan), ('', nan),\n",
       "       ('', nan), ('', nan), ('', nan), ('', nan)], \n",
       "      dtype=[('id', 'S25'), ('score', '<f8')])"
      ]
     },
     "execution_count": 16,
     "metadata": {},
     "output_type": "execute_result"
    }
   ],
   "source": [
    "Lm = LanguageModel(indexer)\n",
    "scores =  Lm.getRanking(q.el)\n",
    "scores[:10]"
   ]
  },
  {
   "cell_type": "code",
   "execution_count": null,
   "metadata": {
    "collapsed": true
   },
   "outputs": [],
   "source": []
  },
  {
   "cell_type": "code",
   "execution_count": null,
   "metadata": {
    "collapsed": true
   },
   "outputs": [],
   "source": []
  },
  {
   "cell_type": "code",
   "execution_count": null,
   "metadata": {
    "collapsed": true
   },
   "outputs": [],
   "source": []
  }
 ],
 "metadata": {
  "anaconda-cloud": {},
  "kernelspec": {
   "display_name": "Python [conda env:python2]",
   "language": "python",
   "name": "conda-env-python2-py"
  },
  "language_info": {
   "codemirror_mode": {
    "name": "ipython",
    "version": 2
   },
   "file_extension": ".py",
   "mimetype": "text/x-python",
   "name": "python",
   "nbconvert_exporter": "python",
   "pygments_lexer": "ipython2",
   "version": "2.7.12"
  }
 },
 "nbformat": 4,
 "nbformat_minor": 1
}
