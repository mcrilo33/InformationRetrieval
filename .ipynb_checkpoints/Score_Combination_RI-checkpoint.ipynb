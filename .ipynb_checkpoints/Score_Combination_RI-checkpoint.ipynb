{
 "cells": [
  {
   "cell_type": "markdown",
   "metadata": {},
   "source": [
    "# Score Combination"
   ]
  },
  {
   "cell_type": "code",
   "execution_count": 2,
   "metadata": {
    "collapsed": true
   },
   "outputs": [],
   "source": [
    "import os\n",
    "import re\n",
    "import pickle\n",
    "import time\n",
    "import numpy as np\n",
    "from IndexerCACM import *\n",
    "from IndexerQuery import *\n",
    "from RelevantParser import *\n",
    "from Query import *\n",
    "from IRmodel import *\n",
    "from Vector import *\n",
    "from IRList import *\n",
    "from EvalMeasure import *\n",
    "from EvalIRModel import *\n",
    "from copy import *"
   ]
  },
  {
   "cell_type": "markdown",
   "metadata": {},
   "source": [
    "### Get Indexers"
   ]
  },
  {
   "cell_type": "code",
   "execution_count": 3,
   "metadata": {
    "collapsed": true
   },
   "outputs": [],
   "source": [
    "# Processed collections \n",
    "collectionPath = 'data/cacm/cacm.txt'\n",
    "collectionPath2 = 'data/cisi/cisi.txt'\n",
    "queriesPath = 'data/cacm/cacm.qry'\n",
    "relevantPath = 'data/cacm/cacm.rel'"
   ]
  },
  {
   "cell_type": "code",
   "execution_count": 4,
   "metadata": {
    "collapsed": true
   },
   "outputs": [],
   "source": [
    "indexer = IndexerCACM(collectionPath, ParserCACM())\n",
    "\n",
    "# If Index and Inv Index aren't already builded\n",
    "#indexer.createRepIndex()\n",
    "#indexer.createRepInvIndex()\n",
    "#indexer.createRepInvFromAll()\n",
    "#indexer.createLinkIndex()\n",
    "\n",
    "queriesIndexer = IndexerCACM(queriesPath, ParserCACM())\n",
    "\n",
    "# If Index isn't already builded\n",
    "#queriesIndexer.createRepIndex()\n",
    "\n",
    "relevantIndexer = Indexer(relevantPath, RelevantParser())\n",
    "\n",
    "# If Index and Inv Index aren't already builded\n",
    "#relevantIndexer.createIndex()"
   ]
  },
  {
   "cell_type": "code",
   "execution_count": 5,
   "metadata": {
    "collapsed": false
   },
   "outputs": [
    {
     "name": "stdout",
     "output_type": "stream",
     "text": [
      "(<Query.Query object at 0x7f1bd8204450>, <Query.Query object at 0x7f1baa3a51d0>, <Query.Query object at 0x7f1baa3a5210>, <Query.Query object at 0x7f1bd82044d0>)\n"
     ]
    }
   ],
   "source": [
    "q = query(1, queriesIndexer, relevantIndexer)\n",
    "q2 = query(2, queriesIndexer, relevantIndexer)\n",
    "q3 = query(3, queriesIndexer, relevantIndexer)\n",
    "q4 = query(4, queriesIndexer, relevantIndexer)\n",
    "print(q, q2, q3, q4)"
   ]
  },
  {
   "cell_type": "code",
   "execution_count": 7,
   "metadata": {
    "collapsed": true
   },
   "outputs": [],
   "source": [
    "class Featurer(object):\n",
    "\n",
    "    def __init__(self, indexer, path, queryBool=False):\n",
    "        \n",
    "        self.indexer = indexer\n",
    "        self.path = path\n",
    "        self.queryBool\n",
    "        \n",
    "        # load features\n",
    "        if os.path.isfile(self.path):\n",
    "            f = open(self.linkIndexPath)\n",
    "            self.features = pickle.load(f)\n",
    "            f.close()\n",
    "        else:\n",
    "            self.features = self.loadFeatures()\n",
    "        \n",
    "    def loadFeatures(self):\n",
    "        \n",
    "        for id in indexer.index:\n",
    "            \n",
    "    def computeFeatures(self):\n",
    "        \n",
    "        if queryBool:\n",
    "            print('yo')\n",
    "        else:\n",
    "            for id in self.indexer.index:\n",
    "                self.computeFeatur\n",
    "        \n",
    "    def getFeatures(self, id, idQuery=None): \n",
    "        \n",
    "        if query==None:\n",
    "            return self.features[id]\n",
    "        else:\n",
    "            return self.features[id][idQuery]\n",
    "        "
   ]
  },
  {
   "cell_type": "code",
   "execution_count": null,
   "metadata": {
    "collapsed": true
   },
   "outputs": [],
   "source": []
  }
 ],
 "metadata": {
  "kernelspec": {
   "display_name": "Python [conda env:python2]",
   "language": "python",
   "name": "conda-env-python2-py"
  },
  "language_info": {
   "codemirror_mode": {
    "name": "ipython",
    "version": 2
   },
   "file_extension": ".py",
   "mimetype": "text/x-python",
   "name": "python",
   "nbconvert_exporter": "python",
   "pygments_lexer": "ipython2",
   "version": "2.7.12"
  }
 },
 "nbformat": 4,
 "nbformat_minor": 1
}
