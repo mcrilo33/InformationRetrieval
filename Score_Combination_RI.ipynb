{
 "cells": [
  {
   "cell_type": "markdown",
   "metadata": {},
   "source": [
    "# Score Combination"
   ]
  },
  {
   "cell_type": "code",
   "execution_count": 19,
   "metadata": {
    "collapsed": false
   },
   "outputs": [],
   "source": [
    "import os\n",
    "import re\n",
    "import pickle\n",
    "import time\n",
    "import inspect\n",
    "import numpy as np\n",
    "from IndexerCACM import *\n",
    "from RelevantParser import *\n",
    "from Query import *\n",
    "from IRmodel import *\n",
    "from Vector import *\n",
    "from IRList import *\n",
    "from EvalMeasure import *\n",
    "from EvalIRModel import *\n",
    "from Weighter import *\n",
    "from copy import *\n",
    "from Vector import *"
   ]
  },
  {
   "cell_type": "markdown",
   "metadata": {},
   "source": [
    "### Get Indexers"
   ]
  },
  {
   "cell_type": "code",
   "execution_count": 20,
   "metadata": {
    "collapsed": true
   },
   "outputs": [],
   "source": [
    "# Processed collections \n",
    "collectionPath = 'data/cacm/cacm.txt'\n",
    "collectionPath2 = 'data/cisi/cisi.txt'\n",
    "queriesPath = 'data/cacm/cacm.qry'\n",
    "relevantPath = 'data/cacm/cacm.rel'"
   ]
  },
  {
   "cell_type": "code",
   "execution_count": 21,
   "metadata": {
    "collapsed": true
   },
   "outputs": [],
   "source": [
    "indexer = IndexerCACM(collectionPath, ParserCACM())\n",
    "\n",
    "# If Index and Inv Index aren't already builded\n",
    "#indexer.createRepIndex()\n",
    "#indexer.createRepInvIndex()\n",
    "#indexer.createRepInvFromAll()\n",
    "#indexer.createLinkIndex()\n",
    "\n",
    "queriesIndexer = IndexerCACM(queriesPath, ParserCACM())\n",
    "\n",
    "# If Index isn't already builded\n",
    "#queriesIndexer.createRepIndex()\n",
    "\n",
    "relevantIndexer = Indexer(relevantPath, RelevantParser())\n",
    "\n",
    "# If Index and Inv Index aren't already builded\n",
    "#relevantIndexer.createIndex()"
   ]
  },
  {
   "cell_type": "code",
   "execution_count": 22,
   "metadata": {
    "collapsed": false
   },
   "outputs": [
    {
     "name": "stdout",
     "output_type": "stream",
     "text": [
      "(<Query.Query object at 0x7efc5068afd0>, <Query.Query object at 0x7efc247916d0>, <Query.Query object at 0x7efc24fc5210>, <Query.Query object at 0x7efc24791650>)\n"
     ]
    }
   ],
   "source": [
    "q = query(1, queriesIndexer, relevantIndexer)\n",
    "q2 = query(2, queriesIndexer, relevantIndexer)\n",
    "q3 = query(3, queriesIndexer, relevantIndexer)\n",
    "q4 = query(4, queriesIndexer, relevantIndexer)\n",
    "print(q, q2, q3, q4)"
   ]
  },
  {
   "cell_type": "code",
   "execution_count": 62,
   "metadata": {
    "collapsed": true
   },
   "outputs": [],
   "source": [
    "class Featurer(object):\n",
    "\n",
    "    def __init__(self, indexer, path, irModel):\n",
    "        \n",
    "        self.indexer = indexer\n",
    "        self.irModel = irModel\n",
    "        self.path = path\n",
    "        self.queryBool = len(inspect.getargspec(self.irModel.getScores).args)==2\n",
    "        \n",
    "        # load features\n",
    "        if os.path.isfile(self.path):\n",
    "            f = open(self.path)\n",
    "            self.features = pickle.load(f)\n",
    "            f.close()\n",
    "        else:\n",
    "            self.features = {}\n",
    "        \n",
    "    def getFeatures(self, id, query=None): \n",
    "        \n",
    "            if self.queryBool:\n",
    "                if query!=None:\n",
    "                    if query.id not in self.features:\n",
    "                        dic = {}\n",
    "                        scores = self.irModel.getScores(query.el)\n",
    "                        for doc in scores:\n",
    "                            dic[doc['id']] = doc['score']\n",
    "\n",
    "                        self.features[query.id] = dic\n",
    "                        f = open(self.path, \"w\")\n",
    "                        pickle.dump(self.features, f)\n",
    "                        f.close()\n",
    "                        \n",
    "                    return self.features[query.id][str(id)]\n",
    "            \n",
    "            else:\n",
    "                if self.features=={}:\n",
    "                        scores = self.irModel.getScores()\n",
    "                        for doc in scores:\n",
    "                            dic[doc['id']] = doc['score']\n",
    "\n",
    "                        self.features = dic\n",
    "                        f = open(self.path, \"w\")\n",
    "                        pickle.dump(self.features, f)\n",
    "                        f.close()\n",
    "                return self.features[id] \n",
    "        "
   ]
  },
  {
   "cell_type": "code",
   "execution_count": 63,
   "metadata": {
    "collapsed": false
   },
   "outputs": [],
   "source": [
    "class DocumentSize(object):\n",
    "    \n",
    "    def __init__(self, indexer):\n",
    "        \n",
    "        self.indexer = indexer\n",
    "    \n",
    "    def getScores(self):\n",
    "        \n",
    "        scores = np.zeros(self.nDoc, [('id', 'a25'), ('score', 'float64')])\n",
    "        \n",
    "        i = 0\n",
    "        for id in self.indexer.index:\n",
    "            \n",
    "            scores[i]['id'] = id\n",
    "            scores[i]['score'] = self.getEfFromDoc(id)[-1]\n",
    "        \n",
    "        return scores\n",
    "        "
   ]
  },
  {
   "cell_type": "code",
   "execution_count": null,
   "metadata": {
    "collapsed": true
   },
   "outputs": [],
   "source": [
    "class DocumentVocabularySize(object):\n",
    "    \n",
    "    def __init__(self, indexer):\n",
    "        \n",
    "        self.indexer = indexer\n",
    "    \n",
    "    def getScores(self):\n",
    "        \n",
    "        scores = np.zeros(self.nDoc, [('id', 'a25'), ('score', 'float64')])\n",
    "        \n",
    "        i = 0\n",
    "        for id in self.indexer.index:\n",
    "            \n",
    "            scores[i]['id'] = id\n",
    "            scores[i]['score'] = len(self.getEfFromDoc(id)-1)\n",
    "        \n",
    "        return scores\n",
    "        "
   ]
  },
  {
   "cell_type": "code",
   "execution_count": 64,
   "metadata": {
    "collapsed": true
   },
   "outputs": [],
   "source": [
    "class DocumentVocabularySize(object):\n",
    "    \n",
    "    def __init__(self, indexer):\n",
    "        \n",
    "        self.indexer = indexer\n",
    "    \n",
    "    def idf(self, elements):\n",
    "        \n",
    "        score = 0\n",
    "        \n",
    "        for element in elements:\n",
    "            if element in self.indexer.invIndex:\n",
    "                score += \\\n",
    "                self.nDoc / float(len(self.indexer.getDfFromEl(element))-1)\n",
    "        \n",
    "        return score\n",
    "    \n",
    "    def getScores(self):\n",
    "        \n",
    "        scores = np.zeros(self.nDoc, [('id', 'a25'), ('score', 'float64')])\n",
    "        \n",
    "        i = 0\n",
    "        for id in self.indexer.index:\n",
    "            \n",
    "            scores[i]['id'] = id\n",
    "            scores[i]['score'] = idf(self.indexer.getEfFromDoc(id))\n",
    "        \n",
    "        return scores"
   ]
  },
  {
   "cell_type": "code",
   "execution_count": 56,
   "metadata": {
    "collapsed": false
   },
   "outputs": [
    {
     "data": {
      "text/plain": [
       "array([('1844', 22.0), ('1938', 17.0), ('2951', 16.0), ..., ('1004', 0.0),\n",
       "       ('100', 0.0), ('1', 0.0)], \n",
       "      dtype=[('id', 'S25'), ('score', '<f8')])"
      ]
     },
     "execution_count": 56,
     "metadata": {},
     "output_type": "execute_result"
    }
   ],
   "source": [
    "class FeaturerList(object):\n",
    "    "
   ]
  },
  {
   "cell_type": "code",
   "execution_count": null,
   "metadata": {
    "collapsed": true
   },
   "outputs": [],
   "source": []
  }
 ],
 "metadata": {
  "anaconda-cloud": {},
  "kernelspec": {
   "display_name": "Python [conda env:python2]",
   "language": "python",
   "name": "conda-env-python2-py"
  },
  "language_info": {
   "codemirror_mode": {
    "name": "ipython",
    "version": 2
   },
   "file_extension": ".py",
   "mimetype": "text/x-python",
   "name": "python",
   "nbconvert_exporter": "python",
   "pygments_lexer": "ipython2",
   "version": "2.7.12"
  }
 },
 "nbformat": 4,
 "nbformat_minor": 1
}
